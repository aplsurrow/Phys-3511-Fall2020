{
 "cells": [
  {
   "cell_type": "markdown",
   "metadata": {},
   "source": [
    "# Assignment 2a Due\n",
    "\n",
    "In this assigment you will explore and become familiar with writing and using algorithms to numerically approxomate definite integrals.\n",
    "\n",
    "Assignment Overview:\n",
    "* Impliment your own midpoint, trapazoid, and Simpson's rule integration algorithms\n",
    "* Use those to solve a definite integral\n",
    "* Compare your algorithms to those from scipy\n",
    "* Compare all approximate solutions to the exact solutions\n"
   ]
  },
  {
   "cell_type": "markdown",
   "metadata": {},
   "source": [
    "You can import only the following packages: numpy, math, scipy, matplotlib.pyplot"
   ]
  },
  {
   "cell_type": "code",
   "execution_count": 1,
   "metadata": {},
   "outputs": [],
   "source": [
    "#your import cell\n",
    "import numpy as np\n",
    "import math\n",
    "import matplotlib.pyplot as plt\n",
    "from scipy import integrate"
   ]
  },
  {
   "cell_type": "markdown",
   "metadata": {},
   "source": [
    "Now we can define our integration algorithms"
   ]
  },
  {
   "cell_type": "code",
   "execution_count": 2,
   "metadata": {},
   "outputs": [],
   "source": [
    "#define midpoint rule\n",
    "def midpointRule(f,x0,xn,n):\n",
    "    dx = (xn-x0)/float(n)\n",
    "    area = dx*math.fsum(f(x0 + (i+0.5)*dx) for i in range (0,n))\n",
    "    return area"
   ]
  },
  {
   "cell_type": "code",
   "execution_count": 3,
   "metadata": {},
   "outputs": [],
   "source": [
    "#define trapezoidal rule\n",
    "def trapezoidalRule(f,x0,xn,n):\n",
    "    dx = (xn-x0)/float(n)\n",
    "    area = dx*math.fsum(0.5*(f(x0 + (i*dx))+f(x0 + (i+1)*dx)) for i in range (0,n))\n",
    "    return area"
   ]
  },
  {
   "cell_type": "code",
   "execution_count": 4,
   "metadata": {},
   "outputs": [],
   "source": [
    "#define simpson's rule\n",
    "def simpsonRule(f,x0,xn,n):\n",
    "    dx = (xn-x0)/float(n)\n",
    "    sodd = 0\n",
    "    seven = 0\n",
    "    for i in range(1,n,2):\n",
    "        sodd += 4*f(x0 + i*dx)\n",
    "    for j in range(2,n-1,2):\n",
    "        seven += 2*f(x0 + (j*dx))\n",
    "    area = (dx/3.0)*(f(x0) + sodd + seven + f(xn))\n",
    "    return area"
   ]
  },
  {
   "cell_type": "markdown",
   "metadata": {},
   "source": [
    "# Question \n",
    "Sanity checking your code is very important. How can you check that your functions are working properly?"
   ]
  },
  {
   "cell_type": "markdown",
   "metadata": {},
   "source": [
    "Having a clear description of what the function expects in terms of arguments is a good rule of thumb when dealing with complex functions. That being said we can use the try-except block that allows users to handle exceptions. This is done by placing the operation that can raise an exception in the try section and specifically noting the expected exceptions in the except section. Doing this will allow a function to run regardless of any specified exceptions."
   ]
  },
  {
   "cell_type": "markdown",
   "metadata": {},
   "source": [
    "For this notebook assigment we would like to solve the integral\\\n",
    "$\\int_{a}^{b} \\frac{2}{(2^2 + x^2)^{3/2}}dx$"
   ]
  },
  {
   "cell_type": "markdown",
   "metadata": {},
   "source": [
    "# Question\n",
    "Have you seen an integral like this before in physics? From where?"
   ]
  },
  {
   "cell_type": "markdown",
   "metadata": {},
   "source": [
    "Yes, when evaluating the electric field of point charges or of a continuous charge distribution, an integral of this form is typically seen."
   ]
  },
  {
   "cell_type": "markdown",
   "metadata": {},
   "source": [
    "Solve the above integral using the numerical integrations that you wrote. When defining the function we will integrate over do so using python's **lambda** function.\n",
    "\n",
    "For the integration take $a = 0,\\; b = 2,\\;$ and we will split it up into 6 partitions."
   ]
  },
  {
   "cell_type": "markdown",
   "metadata": {},
   "source": [
    "# Question\n",
    "What is the exact solution?"
   ]
  },
  {
   "cell_type": "code",
   "execution_count": 5,
   "metadata": {},
   "outputs": [
    {
     "name": "stdout",
     "output_type": "stream",
     "text": [
      "Exact Solution: 0.35355339059327373\n"
     ]
    }
   ],
   "source": [
    "#exact solution to the integral\n",
    "exact_solution = 1/(2*math.sqrt(2))\n",
    "print(\"Exact Solution:\", exact_solution)"
   ]
  },
  {
   "cell_type": "code",
   "execution_count": 6,
   "metadata": {},
   "outputs": [
    {
     "name": "stdout",
     "output_type": "stream",
     "text": [
      "Midpoint Rule Solution: 0.3538599754585315\n",
      "Trapezoidal Rule Solution: 0.35293994641413146\n",
      "Simpson Rule Solution: 0.3535517906244493\n"
     ]
    }
   ],
   "source": [
    "#solve the integral using your integration functions\n",
    "f2 = lambda x : 2/((2**2+x**2)**(3/2))\n",
    "xmin = 0\n",
    "xmax = 2\n",
    "n_part = 6\n",
    "dx = float((xmin-xmax)/n_part)\n",
    "print(\"Midpoint Rule Solution:\",midpointRule(f2,xmin,xmax,n_part))\n",
    "print(\"Trapezoidal Rule Solution:\",trapezoidalRule(f2,xmin,xmax,n_part))\n",
    "print(\"Simpson Rule Solution:\",simpsonRule(f2,xmin,xmax,n_part))"
   ]
  },
  {
   "cell_type": "markdown",
   "metadata": {},
   "source": [
    "Use the trapz and simps methods from scipy's integration library to solve the integral.\n",
    "\n",
    "Note: Shit+tab at the end of a function in jupyter notebook reveals lots of information about the function."
   ]
  },
  {
   "cell_type": "code",
   "execution_count": 7,
   "metadata": {},
   "outputs": [
    {
     "name": "stdout",
     "output_type": "stream",
     "text": [
      "Scipy Trapezoidal Rule Solution: 0.35293994641413146\n",
      "Scipy Simpson Rule Solution: 0.35355179062444925\n"
     ]
    }
   ],
   "source": [
    "#scipy integration\n",
    "x_values = np.linspace(xmin,xmax,n_part+1)\n",
    "y_values = 2/((2**2+x_values**2)**(3/2))\n",
    "scipy_trapezoidal = integrate.trapz(y_values,x_values,dx)\n",
    "scipy_simpson = integrate.simps(y_values,x_values)\n",
    "print(\"Scipy Trapezoidal Rule Solution:\" , scipy_trapezoidal)\n",
    "print(\"Scipy Simpson Rule Solution:\" , scipy_simpson)"
   ]
  },
  {
   "cell_type": "markdown",
   "metadata": {},
   "source": [
    "# Question\n",
    "How do scipy integrals compare to yours? Support your answer. "
   ]
  },
  {
   "cell_type": "markdown",
   "metadata": {},
   "source": [
    "The trapezoidal rule algorithm has the same output as scipys trapezoidal integration. This is because the trapezoidal computation is simple, involving linear approximations for the curve at each interval. The Simpson rule algorithm has basically the identical output as scipys Simpson integration. The Simpson rule uses polynomials to approximate area, in which both integral methods can be computed fairly easily. A key but obvious difference between the two is with regard to the sheer amount of code needed to express the integration. Scipys integral methods allow for a much more concise execution of the same integral solutions. "
   ]
  },
  {
   "cell_type": "code",
   "execution_count": 8,
   "metadata": {},
   "outputs": [
    {
     "name": "stdout",
     "output_type": "stream",
     "text": [
      "Midp. : 0.3538599754585315\n",
      "Trap. : 0.35293994641413146\n",
      "Simp. : 0.3535517906244493\n",
      "ScTrap. : 0.35293994641413146\n",
      "ScSimp. : 0.35355179062444925\n"
     ]
    }
   ],
   "source": [
    "#print the numerical values\n",
    "print(\"Midp. :\",midpointRule(f2,xmin,xmax,n_part))\n",
    "print(\"Trap. :\",trapezoidalRule(f2,xmin,xmax,n_part))\n",
    "print(\"Simp. :\",simpsonRule(f2,xmin,xmax,n_part))\n",
    "print(\"ScTrap. :\" , scipy_trapezoidal)\n",
    "print(\"ScSimp. :\" , scipy_simpson)"
   ]
  },
  {
   "cell_type": "markdown",
   "metadata": {},
   "source": [
    "Numerically compare your midpoint, trapazoid, and Simpson method results to the exact value by calculating the quantity (approx - exact) / exact for each method. "
   ]
  },
  {
   "cell_type": "code",
   "execution_count": 9,
   "metadata": {},
   "outputs": [
    {
     "name": "stdout",
     "output_type": "stream",
     "text": [
      "Midp. error: 0.0008671529489316845\n",
      "Trap. error: -0.001735082155803672\n",
      "Simp. error: -4.525395221761466e-06\n"
     ]
    }
   ],
   "source": [
    "#numerical comparisons\n",
    "def error(approx,exact):\n",
    "    error_num = (approx-exact)/exact\n",
    "    return error_num\n",
    "print(\"Midp. error:\",error(midpointRule(f2,xmin,xmax,n_part),exact_solution))\n",
    "print(\"Trap. error:\",error(trapezoidalRule(f2,xmin,xmax,n_part),exact_solution))\n",
    "print(\"Simp. error:\",error(simpsonRule(f2,xmin,xmax,n_part),exact_solution))"
   ]
  },
  {
   "cell_type": "markdown",
   "metadata": {},
   "source": [
    "# Question\n",
    "Which method provides the best approximation to the exact solution?"
   ]
  },
  {
   "cell_type": "markdown",
   "metadata": {},
   "source": [
    "Simpson's rule gives the best approximation to the exact solution. The approximation is off by only -0.0000045!"
   ]
  },
  {
   "cell_type": "markdown",
   "metadata": {},
   "source": [
    "It is often useful to represent the data graphically. Make a scatter plot showing the percent difference $100 \\times \\frac{approx. - exact}{exact}$ vs. integration method. Integration method on your x-axis should be strings such as *midpoint, trapazoid, and Simpson*. You should also draw on your plot a line at *y = 0*, which will help guide the eye where the perfect approximation (the exact solution) would sit. "
   ]
  },
  {
   "cell_type": "code",
   "execution_count": 10,
   "metadata": {},
   "outputs": [
    {
     "data": {
      "image/png": "[encoded data removed]",
      "text/plain": [
       "<Figure size 432x288 with 1 Axes>"
      ]
     },
     "metadata": {
      "needs_background": "light"
     },
     "output_type": "display_data"
    }
   ],
   "source": [
    "#plot\n",
    "x = [midpointRule(f2,xmin,xmax,n_part),\n",
    "    trapezoidalRule(f2,xmin,xmax,n_part),\n",
    "    simpsonRule(f2,xmin,xmax,n_part)]\n",
    "y = [100*error(midpointRule(f2,xmin,xmax,n_part),exact_solution),\n",
    "     100*error(trapezoidalRule(f2,xmin,xmax,n_part),exact_solution),\n",
    "     100*error(simpsonRule(f2,xmin,xmax,n_part),exact_solution)]\n",
    "fig = plt.figure()\n",
    "ax = plt.axes()\n",
    "plt.title(\"Percent Error of Varying Integration Methods\")\n",
    "x_strings = ['Midpoint','Trapezoidal','Simpson']\n",
    "plt.xticks(x, x_strings)\n",
    "ax.scatter(x,y)\n",
    "xline=[0,1]\n",
    "yline=[0,0]\n",
    "ax.plot(xline,yline, linestyle='--', color='black',label=\"exact solution\")\n",
    "plt.legend()\n",
    "ax.set(xlim = (.35285,.354), ylabel = 'Percent Error');"
   ]
  },
  {
   "cell_type": "markdown",
   "metadata": {},
   "source": [
    "Using the scipy *quad* integration method, approximate the following integral\n",
    "\n",
    "$$\\int_{-\\infty}^{\\infty} e^{-x^{2}} dx$$\n",
    "\n",
    "Hint: Reference <a href=\"https://numpy.org/\">numpy</a> and see what it has to offer in terms of functions and *special* values"
   ]
  },
  {
   "cell_type": "code",
   "execution_count": 11,
   "metadata": {},
   "outputs": [
    {
     "name": "stdout",
     "output_type": "stream",
     "text": [
      "Approximate Solution: (1.772453850905516, 1.4202636781317274e-08)\n",
      "Solution Squared: 3.1415926535897936\n"
     ]
    }
   ],
   "source": [
    "#solve integral above\n",
    "x_negInf = -np.inf\n",
    "x_posInf = np.inf\n",
    "f3 = lambda x : np.e**-(x**2)\n",
    "exp_integral = integrate.quad(f3,x_negInf,x_posInf)\n",
    "print(\"Approximate Solution:\", exp_integral)\n",
    "print(\"Solution Squared:\", exp_integral[0]**2)"
   ]
  },
  {
   "cell_type": "markdown",
   "metadata": {},
   "source": [
    "# Question\n",
    "If you square your solution, does the resulting number have any special meaning?"
   ]
  },
  {
   "cell_type": "markdown",
   "metadata": {},
   "source": [
    "Yes, the square of the solution is approximately equal to the ratio of a circles circumference to its diameter, pi."
   ]
  }
 ],
 "metadata": {
  "kernelspec": {
   "display_name": "Python 3",
   "language": "python",
   "name": "python3"
  },
  "language_info": {
   "codemirror_mode": {
    "name": "ipython",
    "version": 3
   },
   "file_extension": ".py",
   "mimetype": "text/x-python",
   "name": "python",
   "nbconvert_exporter": "python",
   "pygments_lexer": "ipython3",
   "version": "3.8.3"
  }
 },
 "nbformat": 4,
 "nbformat_minor": 4
}
